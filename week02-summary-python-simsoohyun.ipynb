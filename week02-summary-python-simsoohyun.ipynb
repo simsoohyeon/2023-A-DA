{
 "cells": [
  {
   "cell_type": "code",
   "execution_count": null,
   "id": "0c2cbe48",
   "metadata": {},
   "outputs": [],
   "source": [
    "import sys"
   ]
  },
  {
   "cell_type": "code",
   "execution_count": 3,
   "id": "8ccc7c35",
   "metadata": {},
   "outputs": [
    {
     "data": {
      "text/plain": [
       "'3.9.13 (main, Aug 25 2022, 23:51:50) [MSC v.1916 64 bit (AMD64)]'"
      ]
     },
     "execution_count": 3,
     "metadata": {},
     "output_type": "execute_result"
    }
   ],
   "source": [
    "sys.version"
   ]
  },
  {
   "cell_type": "markdown",
   "id": "981d2173",
   "metadata": {},
   "source": [
    " 파이썬 자료형\n",
    " "
   ]
  },
  {
   "cell_type": "code",
   "execution_count": 4,
   "id": "894939ac",
   "metadata": {},
   "outputs": [
    {
     "data": {
      "text/plain": [
       "str"
      ]
     },
     "execution_count": 4,
     "metadata": {},
     "output_type": "execute_result"
    }
   ],
   "source": [
    "type('Hello')"
   ]
  },
  {
   "cell_type": "code",
   "execution_count": 5,
   "id": "a1f2a6fb",
   "metadata": {},
   "outputs": [
    {
     "data": {
      "text/plain": [
       "int"
      ]
     },
     "execution_count": 5,
     "metadata": {},
     "output_type": "execute_result"
    }
   ],
   "source": [
    "type(123)"
   ]
  },
  {
   "cell_type": "code",
   "execution_count": 6,
   "id": "32cbe5ca",
   "metadata": {},
   "outputs": [
    {
     "data": {
      "text/plain": [
       "float"
      ]
     },
     "execution_count": 6,
     "metadata": {},
     "output_type": "execute_result"
    }
   ],
   "source": [
    "type(3.6)"
   ]
  },
  {
   "cell_type": "code",
   "execution_count": 7,
   "id": "7c47d2c0",
   "metadata": {},
   "outputs": [
    {
     "name": "stdout",
     "output_type": "stream",
     "text": [
      "70\n"
     ]
    }
   ],
   "source": [
    "print(10*7)"
   ]
  },
  {
   "cell_type": "code",
   "execution_count": 8,
   "id": "5c5edec9",
   "metadata": {},
   "outputs": [
    {
     "name": "stdout",
     "output_type": "stream",
     "text": [
      "Hi,everyone\n"
     ]
    }
   ],
   "source": [
    "print('Hi,everyone')"
   ]
  },
  {
   "cell_type": "code",
   "execution_count": 9,
   "id": "5fedc91f",
   "metadata": {},
   "outputs": [
    {
     "name": "stdout",
     "output_type": "stream",
     "text": [
      "2024\n"
     ]
    }
   ],
   "source": [
    "a = 2024\n",
    "print(a)"
   ]
  },
  {
   "cell_type": "code",
   "execution_count": 10,
   "id": "49b29ac8",
   "metadata": {},
   "outputs": [
    {
     "name": "stdout",
     "output_type": "stream",
     "text": [
      "여러분안녕하세요!\n"
     ]
    }
   ],
   "source": [
    "b = '여러분'\n",
    "print(b+'안녕하세요!')"
   ]
  },
  {
   "cell_type": "code",
   "execution_count": 11,
   "id": "a0d77f72",
   "metadata": {},
   "outputs": [
    {
     "name": "stdout",
     "output_type": "stream",
     "text": [
      "2024 년에도새해복 많이 받으세요!\n"
     ]
    }
   ],
   "source": [
    "c = '새해'\n",
    "print(a, '년에도'+c+'복 많이 받으세요!')"
   ]
  },
  {
   "cell_type": "markdown",
   "id": "da118efc",
   "metadata": {},
   "source": [
    "# 표준입력 "
   ]
  },
  {
   "cell_type": "code",
   "execution_count": 13,
   "id": "7926d96f",
   "metadata": {},
   "outputs": [
    {
     "name": "stdout",
     "output_type": "stream",
     "text": [
      "이름 입력 >sim soo hyun\n"
     ]
    }
   ],
   "source": [
    "name = input('이름 입력 >')"
   ]
  },
  {
   "cell_type": "code",
   "execution_count": 14,
   "id": "0db12344",
   "metadata": {},
   "outputs": [
    {
     "data": {
      "text/plain": [
       "'sim soo hyun'"
      ]
     },
     "execution_count": 14,
     "metadata": {},
     "output_type": "execute_result"
    }
   ],
   "source": [
    "name"
   ]
  },
  {
   "cell_type": "code",
   "execution_count": 15,
   "id": "15986416",
   "metadata": {},
   "outputs": [
    {
     "name": "stdout",
     "output_type": "stream",
     "text": [
      "이름을 입력하세요: 심수현\n"
     ]
    }
   ],
   "source": [
    "name = input('이름을 입력하세요:')"
   ]
  },
  {
   "cell_type": "code",
   "execution_count": 16,
   "id": "06bfac33",
   "metadata": {},
   "outputs": [
    {
     "name": "stdout",
     "output_type": "stream",
     "text": [
      " 심수현님 안녕하세요!\n"
     ]
    }
   ],
   "source": [
    "print(name+'님 안녕하세요!')"
   ]
  },
  {
   "cell_type": "code",
   "execution_count": 17,
   "id": "430cf53f",
   "metadata": {},
   "outputs": [
    {
     "name": "stdout",
     "output_type": "stream",
     "text": [
      "출생 연도를 입력하세요:2004\n"
     ]
    }
   ],
   "source": [
    "birth = input('출생 연도를 입력하세요:')"
   ]
  },
  {
   "cell_type": "code",
   "execution_count": 19,
   "id": "bb3ffa16",
   "metadata": {},
   "outputs": [
    {
     "name": "stdout",
     "output_type": "stream",
     "text": [
      "2023-birth, 세이시군요!\n"
     ]
    }
   ],
   "source": [
    "print('2023-birth, 세이시군요!')"
   ]
  },
  {
   "cell_type": "code",
   "execution_count": 20,
   "id": "77f7999b",
   "metadata": {},
   "outputs": [
    {
     "name": "stdout",
     "output_type": "stream",
     "text": [
      "2023-int(birth), 세이신구요!\n"
     ]
    }
   ],
   "source": [
    "print('2023-int(birth), 세이신구요!')"
   ]
  },
  {
   "cell_type": "markdown",
   "id": "35aa7ebc",
   "metadata": {},
   "source": [
    "## 내장함수 "
   ]
  },
  {
   "cell_type": "code",
   "execution_count": 1,
   "id": "0ee5e907",
   "metadata": {},
   "outputs": [
    {
     "data": {
      "text/plain": [
       "3"
      ]
     },
     "execution_count": 1,
     "metadata": {},
     "output_type": "execute_result"
    }
   ],
   "source": [
    "abs(-3)"
   ]
  },
  {
   "cell_type": "code",
   "execution_count": 2,
   "id": "4d846ba5",
   "metadata": {},
   "outputs": [
    {
     "data": {
      "text/plain": [
       "True"
      ]
     },
     "execution_count": 2,
     "metadata": {},
     "output_type": "execute_result"
    }
   ],
   "source": [
    "bool('py')"
   ]
  },
  {
   "cell_type": "markdown",
   "id": "6a0acadf",
   "metadata": {},
   "source": [
    "# 반복문"
   ]
  },
  {
   "cell_type": "code",
   "execution_count": 4,
   "id": "757a97dc",
   "metadata": {},
   "outputs": [
    {
     "name": "stdout",
     "output_type": "stream",
     "text": [
      "0\n",
      "2\n",
      "4\n",
      "6\n",
      "8\n"
     ]
    }
   ],
   "source": [
    "for i in range(5):\n",
    "    print(i*2)"
   ]
  },
  {
   "cell_type": "code",
   "execution_count": 7,
   "id": "51fcb77d",
   "metadata": {},
   "outputs": [
    {
     "name": "stdout",
     "output_type": "stream",
     "text": [
      "12345678910"
     ]
    }
   ],
   "source": [
    "for i in range(1, 11):\n",
    "    print(i, end='')"
   ]
  },
  {
   "cell_type": "code",
   "execution_count": 10,
   "id": "6bd37307",
   "metadata": {},
   "outputs": [
    {
     "name": "stdout",
     "output_type": "stream",
     "text": [
      "1\n",
      "4\n",
      "7\n",
      "10\n"
     ]
    }
   ],
   "source": [
    "for i in range(1, 11, 3):\n",
    "    print(i)"
   ]
  },
  {
   "cell_type": "code",
   "execution_count": 11,
   "id": "ba2ea753",
   "metadata": {},
   "outputs": [
    {
     "name": "stdout",
     "output_type": "stream",
     "text": [
      "10\n",
      "20\n",
      "30\n"
     ]
    }
   ],
   "source": [
    "for i in [10, 20, 30]:\n",
    "    print(i)"
   ]
  },
  {
   "cell_type": "code",
   "execution_count": 13,
   "id": "7262b9b8",
   "metadata": {},
   "outputs": [
    {
     "name": "stdout",
     "output_type": "stream",
     "text": [
      "10\n",
      "20\n",
      "30\n"
     ]
    }
   ],
   "source": [
    "for i in {10:'십', 20:'이십', 30:'삼십'}:\n",
    "    print(i)"
   ]
  },
  {
   "cell_type": "code",
   "execution_count": 15,
   "id": "953fface",
   "metadata": {},
   "outputs": [
    {
     "name": "stdout",
     "output_type": "stream",
     "text": [
      "십\n",
      "이십\n",
      "삼십\n"
     ]
    }
   ],
   "source": [
    "data = {10:'십', 20:'이십', 30:'삼십'}\n",
    "for i in data:\n",
    "    print(data[i])"
   ]
  },
  {
   "cell_type": "code",
   "execution_count": 16,
   "id": "db74dd33",
   "metadata": {},
   "outputs": [
    {
     "data": {
      "text/plain": [
       "'십'"
      ]
     },
     "execution_count": 16,
     "metadata": {},
     "output_type": "execute_result"
    }
   ],
   "source": [
    "data[10]"
   ]
  },
  {
   "cell_type": "code",
   "execution_count": 19,
   "id": "8418d33d",
   "metadata": {},
   "outputs": [
    {
     "name": "stdout",
     "output_type": "stream",
     "text": [
      "0\n",
      "1\n",
      "2\n",
      "3\n",
      "4\n",
      "5\n",
      "6\n",
      "7\n",
      "8\n",
      "9\n"
     ]
    }
   ],
   "source": [
    "for num in range(10):\n",
    "    print(num)"
   ]
  },
  {
   "cell_type": "code",
   "execution_count": 20,
   "id": "b6a99eee",
   "metadata": {},
   "outputs": [],
   "source": [
    "test_score = [80, 70, 90, 100]"
   ]
  },
  {
   "cell_type": "code",
   "execution_count": 21,
   "id": "d3d5e6cd",
   "metadata": {},
   "outputs": [
    {
     "name": "stdout",
     "output_type": "stream",
     "text": [
      "80\n",
      "70\n",
      "90\n",
      "100\n"
     ]
    }
   ],
   "source": [
    "for score in test_score:\n",
    "    print(score)"
   ]
  },
  {
   "cell_type": "code",
   "execution_count": 23,
   "id": "bb1e24c7",
   "metadata": {},
   "outputs": [],
   "source": [
    "test_name=['국어', '영어', '수학', '과학']"
   ]
  },
  {
   "cell_type": "code",
   "execution_count": 24,
   "id": "d53348e4",
   "metadata": {},
   "outputs": [
    {
     "name": "stdout",
     "output_type": "stream",
     "text": [
      "국어\n",
      "영어\n",
      "수학\n",
      "과학\n"
     ]
    }
   ],
   "source": [
    "for name in test_name:\n",
    "    print(name)"
   ]
  },
  {
   "cell_type": "code",
   "execution_count": 25,
   "id": "3e2e8e7f",
   "metadata": {},
   "outputs": [],
   "source": [
    "import random"
   ]
  },
  {
   "cell_type": "code",
   "execution_count": 26,
   "id": "10e8564e",
   "metadata": {},
   "outputs": [],
   "source": [
    "dice = random.randint(1,6)"
   ]
  },
  {
   "cell_type": "code",
   "execution_count": 27,
   "id": "d5e45951",
   "metadata": {},
   "outputs": [
    {
     "name": "stdout",
     "output_type": "stream",
     "text": [
      "4\n"
     ]
    }
   ],
   "source": [
    "print(dice)"
   ]
  },
  {
   "cell_type": "code",
   "execution_count": 28,
   "id": "9f99c834",
   "metadata": {},
   "outputs": [],
   "source": [
    "import math"
   ]
  },
  {
   "cell_type": "code",
   "execution_count": 29,
   "id": "4ada8182",
   "metadata": {},
   "outputs": [
    {
     "name": "stdout",
     "output_type": "stream",
     "text": [
      "1.4142135623730951\n"
     ]
    }
   ],
   "source": [
    "print(math.sqrt(2))"
   ]
  },
  {
   "cell_type": "code",
   "execution_count": 30,
   "id": "dfb18504",
   "metadata": {},
   "outputs": [
    {
     "name": "stdout",
     "output_type": "stream",
     "text": [
      "2.0\n"
     ]
    }
   ],
   "source": [
    "print(math.sqrt(4))"
   ]
  },
  {
   "cell_type": "code",
   "execution_count": 32,
   "id": "49451e04",
   "metadata": {},
   "outputs": [
    {
     "name": "stdout",
     "output_type": "stream",
     "text": [
      "안녕하세요!\n"
     ]
    }
   ],
   "source": [
    "if(10>0):\n",
    "    print('안녕하세요!')"
   ]
  },
  {
   "cell_type": "code",
   "execution_count": null,
   "id": "dbc35d2f",
   "metadata": {},
   "outputs": [],
   "source": [
    "password = input('패스워드를 입력하세요:')"
   ]
  },
  {
   "cell_type": "code",
   "execution_count": null,
   "id": "9fec076a",
   "metadata": {},
   "outputs": [],
   "source": [
    "if (int(password) == 12345):"
   ]
  },
  {
   "cell_type": "code",
   "execution_count": null,
   "id": "283448f5",
   "metadata": {},
   "outputs": [],
   "source": [
    "print('로그인 되었습니다.')"
   ]
  },
  {
   "cell_type": "code",
   "execution_count": null,
   "id": "cc860c01",
   "metadata": {},
   "outputs": [],
   "source": [
    "elif(int(password) = 11111):"
   ]
  },
  {
   "cell_type": "code",
   "execution_count": null,
   "id": "58a0e2ed",
   "metadata": {},
   "outputs": [],
   "source": [
    "print('관리자 권한입니다')"
   ]
  },
  {
   "cell_type": "code",
   "execution_count": null,
   "id": "2367f570",
   "metadata": {},
   "outputs": [],
   "source": [
    "else:\n",
    "    print('로그인에 실패하였습니다.')"
   ]
  },
  {
   "cell_type": "code",
   "execution_count": null,
   "id": "f5a1e808",
   "metadata": {},
   "outputs": [],
   "source": [
    "arr"
   ]
  }
 ],
 "metadata": {
  "kernelspec": {
   "display_name": "Python 3 (ipykernel)",
   "language": "python",
   "name": "python3"
  },
  "language_info": {
   "codemirror_mode": {
    "name": "ipython",
    "version": 3
   },
   "file_extension": ".py",
   "mimetype": "text/x-python",
   "name": "python",
   "nbconvert_exporter": "python",
   "pygments_lexer": "ipython3",
   "version": "3.9.13"
  }
 },
 "nbformat": 4,
 "nbformat_minor": 5
}
